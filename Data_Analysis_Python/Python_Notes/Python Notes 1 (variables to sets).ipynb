{
 "cells": [
  {
   "cell_type": "code",
   "execution_count": 6,
   "id": "74ace3aa",
   "metadata": {},
   "outputs": [
    {
     "name": "stdout",
     "output_type": "stream",
     "text": [
      "Abhishek\n"
     ]
    }
   ],
   "source": [
    "# # Variables\n",
    "student = 'Abhishek'\n",
    "print(student) # Student is the variable"
   ]
  },
  {
   "cell_type": "code",
   "execution_count": 12,
   "id": "889dddee",
   "metadata": {},
   "outputs": [
    {
     "name": "stdout",
     "output_type": "stream",
     "text": [
      "<class 'int'>\n",
      "<class 'float'>\n",
      "<class 'str'>\n",
      "<class 'bool'>\n",
      "<class 'complex'>\n"
     ]
    }
   ],
   "source": [
    "## Data Types in python\n",
    "a1=10\n",
    "a2=1.2\n",
    "a3=\"12\"\n",
    "a4=True\n",
    "a5=3+4j\n",
    "print(type(a1))\n",
    "print(type(a2))\n",
    "print(type(a3))\n",
    "print(type(a4))\n",
    "print(type(a5))"
   ]
  },
  {
   "cell_type": "code",
   "execution_count": null,
   "id": "8c95dac1",
   "metadata": {},
   "outputs": [],
   "source": [
    "## Operators##"
   ]
  },
  {
   "cell_type": "code",
   "execution_count": 28,
   "id": "1030e78a",
   "metadata": {},
   "outputs": [
    {
     "name": "stdout",
     "output_type": "stream",
     "text": [
      "10 20\n",
      "30\n",
      "-10\n",
      "200\n",
      "0.5\n"
     ]
    }
   ],
   "source": [
    "## Arithmetics Operators\n",
    "# +,-,/,*,\n",
    "\n",
    "a=10\n",
    "b=20\n",
    "print(a,b)\n",
    "print(a+b)\n",
    "print(a-b)\n",
    "print(a*b)\n",
    "print(a/b)"
   ]
  },
  {
   "cell_type": "code",
   "execution_count": 27,
   "id": "c3f1e207",
   "metadata": {},
   "outputs": [
    {
     "name": "stdout",
     "output_type": "stream",
     "text": [
      "False\n",
      "True\n",
      "False\n",
      "True\n"
     ]
    }
   ],
   "source": [
    "## Relational Operators\n",
    "# <,>,==,!=  # in this the != symbol means its not equals to\n",
    "\n",
    "a=50\n",
    "b=100\n",
    "print(a>b )# a is greater than b\n",
    "print(a<b )# a is less than b\n",
    "print(a==b) # a is equals to b\n",
    "print(a!=b) # a is not equals to b"
   ]
  },
  {
   "cell_type": "code",
   "execution_count": 26,
   "id": "3b9c5077",
   "metadata": {},
   "outputs": [
    {
     "name": "stdout",
     "output_type": "stream",
     "text": [
      "True\n",
      "False\n",
      "False\n",
      "False\n",
      "True\n",
      "True\n",
      "True\n",
      "False\n"
     ]
    }
   ],
   "source": [
    "## Logical operators\n",
    "# & means and \n",
    "# | means or \n",
    "\n",
    "a=True\n",
    "b=False\n",
    "\n",
    "print(a & a) \n",
    "print(a & b) \n",
    "print(b & a) \n",
    "print(b & b) \n",
    "print(a | b) \n",
    "print(b | a) \n",
    "print(a | a) \n",
    "print(b | b) "
   ]
  },
  {
   "cell_type": "code",
   "execution_count": 36,
   "id": "0da60ccb",
   "metadata": {
    "scrolled": true
   },
   "outputs": [
    {
     "ename": "SyntaxError",
     "evalue": "cannot assign to True (1852987998.py, line 4)",
     "output_type": "error",
     "traceback": [
      "\u001b[1;36m  Input \u001b[1;32mIn [36]\u001b[1;36m\u001b[0m\n\u001b[1;33m    True = 1    # we cannot assign values or make keywords as variables.\u001b[0m\n\u001b[1;37m    ^\u001b[0m\n\u001b[1;31mSyntaxError\u001b[0m\u001b[1;31m:\u001b[0m cannot assign to True\n"
     ]
    }
   ],
   "source": [
    "## Python keywords - these are special reserved words\n",
    "# Example- False, class,if,Or,def,del,and,not,with,return,etc\n",
    "class # these are keywords which are in green colour\n",
    "True = 1    # we cannot assign values or make keywords as variables.\n"
   ]
  },
  {
   "cell_type": "code",
   "execution_count": 44,
   "id": "1ec3e923",
   "metadata": {},
   "outputs": [
    {
     "name": "stdout",
     "output_type": "stream",
     "text": [
      "Abhi\n",
      "Himu\n"
     ]
    }
   ],
   "source": [
    "## Python Identifiers -These are names used for variables,functions or object\n",
    "# ''' Rules\n",
    "#          :- No special character expect_(underscore)\n",
    "#          :- Identifier are case sensitive\n",
    "#          :- First Letter cannot bee a digit  ''' \n",
    "\n",
    "Student= 'Abhi'\n",
    "student= 'Himu'\n",
    "print(Student)\n",
    "print(student)\n"
   ]
  },
  {
   "cell_type": "code",
   "execution_count": 45,
   "id": "c83736ba",
   "metadata": {},
   "outputs": [],
   "source": [
    "##  Python Literals\n",
    "#     ''':- Literals are constant in python means \n",
    "#           these are those whoes value can't be changed'''\n",
    "# These are constant it can't be changed\n",
    "\n",
    "a = \" hello world\" \n"
   ]
  },
  {
   "cell_type": "code",
   "execution_count": 46,
   "id": "73a52659",
   "metadata": {},
   "outputs": [],
   "source": [
    "# #  Python Strings\n",
    "#    :-Strings are seguences of characters enclosed within single quotes(''),\n",
    "#      double quotes(\" \") pr triple quotes(''' ''')\n"
   ]
  },
  {
   "cell_type": "code",
   "execution_count": 56,
   "id": "78f1bbd2",
   "metadata": {},
   "outputs": [
    {
     "name": "stdout",
     "output_type": "stream",
     "text": [
      "H\n",
      "!\n",
      "el odmrig\n"
     ]
    }
   ],
   "source": [
    "## Extracting Individual Characters \n",
    "\n",
    "letter = \"Hello Good morning!\"\n",
    "print(letter[0])\n",
    "print(letter[-1])\n",
    "print(letter[1::2])"
   ]
  },
  {
   "cell_type": "code",
   "execution_count": 79,
   "id": "00f990ff",
   "metadata": {},
   "outputs": [
    {
     "name": "stdout",
     "output_type": "stream",
     "text": [
      "19\n",
      "hello good morning!\n",
      "HELLO GOOD MORNING!\n",
      "Hella Gaad marning!\n",
      "1\n",
      "6\n",
      "['I like apple', ' mangoes', ' bananas']\n"
     ]
    }
   ],
   "source": [
    "# # String Function\n",
    "# :- Finding length of string\n",
    "print(len(letter))\n",
    "#  Converting string to lower case\n",
    "print(letter.lower())\n",
    "#  Converting String to Upper case\n",
    "print(letter.upper())\n",
    "#  Converting String to replacing a substring \n",
    "print(letter.replace('o','a'))\n",
    "#  Converting String to number oc occurrences of substring\n",
    "print(letter.count('Hello'))\n",
    "#  Finding the index of substring\n",
    "print(letter.find('Good'))\n",
    "#  splitting a string\n",
    "fruit= \"I like apple, mangoes, bananas\"\n",
    "print(fruit.split(','))\n"
   ]
  },
  {
   "cell_type": "code",
   "execution_count": null,
   "id": "4aba49c5",
   "metadata": {},
   "outputs": [],
   "source": [
    "## Data_Structures in Python\n",
    "#     :- Tuple , List, Dictionary, Set .\n"
   ]
  },
  {
   "cell_type": "code",
   "execution_count": 85,
   "id": "d5846eaf",
   "metadata": {
    "scrolled": true
   },
   "outputs": [
    {
     "data": {
      "text/plain": [
       "tuple"
      ]
     },
     "execution_count": 85,
     "metadata": {},
     "output_type": "execute_result"
    }
   ],
   "source": [
    "## Tuple in Python\n",
    "#     :- tuple is an ordered collection of elements enclosed within()\n",
    "#     :- It is immutable you cannot modify it\n",
    "#     :- Example - tup1=(1,'a,True')\n",
    "\n",
    "tup1 = (1,True,3.14,5-7)\n",
    "tup1\n",
    "type(tup1)"
   ]
  },
  {
   "cell_type": "code",
   "execution_count": 88,
   "id": "26b07d7a",
   "metadata": {},
   "outputs": [
    {
     "name": "stdout",
     "output_type": "stream",
     "text": [
      "1\n",
      "-2\n",
      "(True, 3.14, -2)\n"
     ]
    }
   ],
   "source": [
    "## Extracting Individual Elements\n",
    "print(tup1[0])\n",
    "print(tup1[-1])\n",
    "print(tup1[1:4])\n",
    "# print(tup1[2]=\"this is abhi\") this statement will show an error as it is immutable\n"
   ]
  },
  {
   "cell_type": "code",
   "execution_count": 99,
   "id": "ec82c7b5",
   "metadata": {},
   "outputs": [
    {
     "name": "stdout",
     "output_type": "stream",
     "text": [
      "5\n",
      "(1, 2, 3, 4, 5, 6)\n",
      "('sparta', 300, 'sparta', 300, 'sparta', 300)\n",
      "('sparta', 300, 'sparta', 300, 'sparta', 300, 4, 5, 6)\n",
      "5\n",
      "1\n"
     ]
    }
   ],
   "source": [
    "## Tuple Basic Operations\n",
    "\n",
    "#  Finding Length of Tuple\n",
    "print(len(tup1))\n",
    "\n",
    "#  Concatenating Tuples\n",
    "tup1=(1,2,3)\n",
    "tup2=(4,5,6)\n",
    "print(tup1+tup2)\n",
    "\n",
    "# Repeating Tuple Elements\n",
    "tup1 = ('sparta',300)\n",
    "print(tup1*3)\n",
    "\n",
    "# Repeating and Concatenating\n",
    "tup2 = (4,5,6)\n",
    "print(tup1*3 + tup2)\n",
    "\n",
    "# Maximun Value\n",
    "tup1=(1,2,3,4,5)\n",
    "print(max(tup1))\n",
    "\n",
    "# Minimum Value\n",
    "print(min(tup1))"
   ]
  },
  {
   "cell_type": "code",
   "execution_count": 3,
   "id": "b53e463f",
   "metadata": {},
   "outputs": [
    {
     "name": "stdout",
     "output_type": "stream",
     "text": [
      "<class 'list'>\n"
     ]
    }
   ],
   "source": [
    "## lIST IN PYTHON\n",
    "#     :-List is an ordered collection of elements enclosed within []\n",
    "#     :-lIST ARE MUTABLE \n",
    "\n",
    "l1=[1,'Sparta', 3.14, True]\n",
    "print(type(l1))"
   ]
  },
  {
   "cell_type": "code",
   "execution_count": 5,
   "id": "b218bf2f",
   "metadata": {},
   "outputs": [
    {
     "name": "stdout",
     "output_type": "stream",
     "text": [
      "a\n",
      "[2, 'b', 3]\n"
     ]
    }
   ],
   "source": [
    "## Extracting individual elements\n",
    "l1 = [1,\"a\",2,\"b\",3, \"c\"]\n",
    "print(l1[1])\n",
    "print(l1[2:5])"
   ]
  },
  {
   "cell_type": "code",
   "execution_count": 25,
   "id": "eab596ed",
   "metadata": {},
   "outputs": [
    {
     "name": "stdout",
     "output_type": "stream",
     "text": [
      "[100, 'a', 2, 'b', 3, 'c']\n",
      "[100, 'a', 2, 'b', 3]\n",
      "[100, 'a', 2, 'b', 3, 'Abhi']\n",
      "['Abhi', 3, 'b', 2, 'a', 100]\n",
      "['apple', 'banana', 'gauva', 'mango']\n",
      "['apple', 'himu', 'banana', 'gauva', 'mango']\n"
     ]
    }
   ],
   "source": [
    "## Modifying List\n",
    "\n",
    "# Changing the elements at 0th index\n",
    "l1 = [1,\"a\",2,\"b\",3, \"c\"]\n",
    "l1[0]=100\n",
    "print(l1)\n",
    "\n",
    "#  Popping the last element\n",
    "l1.pop()\n",
    "print(l1)\n",
    "\n",
    "#  Appending a new elements\n",
    "l1.append(\"Abhi\")\n",
    "print(l1)\n",
    "\n",
    "#  Reversing elements of a list\n",
    "l1.reverse()\n",
    "print(l1)\n",
    "\n",
    "# Sorting a List\n",
    "l1 = [\"mango\", \"banana\", \"gauva\", \"apple\"]\n",
    "l1.sort()\n",
    "print(l1)\n",
    "\n",
    "# Inserting elements at a specific index\n",
    "l1.insert(1,\"himu\")\n",
    "print(l1)"
   ]
  },
  {
   "cell_type": "code",
   "execution_count": 22,
   "id": "f0101580",
   "metadata": {},
   "outputs": [
    {
     "name": "stdout",
     "output_type": "stream",
     "text": [
      "[1, 2, 3, 'a', 'b', 'c']\n",
      "[1, 'a,Ture', 1, 'a,Ture', 1, 'a,Ture']\n"
     ]
    }
   ],
   "source": [
    "## List Basic Operations\n",
    "\n",
    "# Concatenating Lists\n",
    "l1= [1,2,3]\n",
    "l2= [\"a\",\"b\",\"c\"]\n",
    "print(l1+l2)\n",
    "\n",
    "# Repeating elements\n",
    "l1 =[1,\"a,Ture\"]\n",
    "print(l1 *3)"
   ]
  },
  {
   "cell_type": "code",
   "execution_count": 1,
   "id": "3231d96e",
   "metadata": {},
   "outputs": [],
   "source": [
    "## Dictionary in pythons\n",
    "#:- Dictionary is an unordered collection  of key-value pairs enclosed with{}\n",
    "#:- Dictionary is mutable\n",
    "# :- Example - fruit= {\"apple\":10,\"orange\":20} \n",
    "#           here the apple and orange are keys and 10 and 20 are values\n",
    "\n"
   ]
  },
  {
   "cell_type": "code",
   "execution_count": 28,
   "id": "42c0f138",
   "metadata": {},
   "outputs": [
    {
     "name": "stdout",
     "output_type": "stream",
     "text": [
      "{'Apple': 10, 'Orange': 20, 'Mango': 50, 'Banana': 25}\n",
      "<class 'dict'>\n"
     ]
    }
   ],
   "source": [
    "fruit =  {\"Apple\":10,\"Orange\":20,\"Mango\":50,\"Banana\":25} \n",
    "print(fruit)\n",
    "print(type(fruit))"
   ]
  },
  {
   "cell_type": "code",
   "execution_count": 29,
   "id": "7f6444bf",
   "metadata": {},
   "outputs": [
    {
     "name": "stdout",
     "output_type": "stream",
     "text": [
      "dict_keys(['Apple', 'Orange', 'Mango', 'Banana'])\n",
      "dict_values([10, 20, 50, 25])\n"
     ]
    }
   ],
   "source": [
    "# Extarcting Keys and Values\n",
    "print(fruit.keys())\n",
    "print(fruit.values())"
   ]
  },
  {
   "cell_type": "code",
   "execution_count": 30,
   "id": "b040d4af",
   "metadata": {},
   "outputs": [
    {
     "name": "stdout",
     "output_type": "stream",
     "text": [
      "{'Apple': 10, 'Orange': 20, 'Mango': 50, 'Banana': 25, 'Guava': 50}\n",
      "{'Apple': 100, 'Orange': 20, 'Mango': 50, 'Banana': 25, 'Guava': 50}\n"
     ]
    }
   ],
   "source": [
    "#  Modifying a Dictionary\n",
    "\n",
    "# Adding a new element\n",
    "fruit[\"Guava\"]=50\n",
    "print(fruit)\n",
    "\n",
    "# Changing an eexisting element\n",
    "fruit[\"Apple\"]=100\n",
    "print(fruit)"
   ]
  },
  {
   "cell_type": "code",
   "execution_count": 31,
   "id": "e3ce7a51",
   "metadata": {},
   "outputs": [
    {
     "name": "stdout",
     "output_type": "stream",
     "text": [
      "{'Apple': 10, 'Orange': 20, 'Banana': 25, 'Guava': 50}\n",
      "{'Apple': 10, 'Mango': 50, 'Banana': 25}\n"
     ]
    }
   ],
   "source": [
    "#  Dictionary functions\n",
    "\n",
    "# Update one dictionary's elements with another\n",
    "fruit1={'Apple': 10, 'Orange': 20} \n",
    "fruit2={'Banana': 25, 'Guava': 50}\n",
    "fruit1.update(fruit2)\n",
    "print(fruit1)\n",
    "\n",
    "# Popping an element\n",
    "fruit =  {\"Apple\":10,\"Orange\":20,\"Mango\":50,\"Banana\":25} \n",
    "fruit.pop('Orange')\n",
    "print(fruit)"
   ]
  },
  {
   "cell_type": "code",
   "execution_count": 32,
   "id": "1a5ab165",
   "metadata": {},
   "outputs": [],
   "source": [
    "## Set In Python\n",
    "# :-Set is an unordered and unindexed collection of eleements enclosed with{}\n",
    "# :-Duplicates are not allowed in set\n",
    "# :- Example - s1={1,\"a\",True}\n"
   ]
  },
  {
   "cell_type": "code",
   "execution_count": 35,
   "id": "d4e7adbf",
   "metadata": {},
   "outputs": [
    {
     "data": {
      "text/plain": [
       "{1, 3.14, 'abhi'}"
      ]
     },
     "execution_count": 35,
     "metadata": {},
     "output_type": "execute_result"
    }
   ],
   "source": [
    "s1={1,3.14,\"abhi\"}\n",
    "s1"
   ]
  },
  {
   "cell_type": "code",
   "execution_count": 36,
   "id": "bbc57295",
   "metadata": {},
   "outputs": [
    {
     "data": {
      "text/plain": [
       "{1, 3.14, 'abhi'}"
      ]
     },
     "execution_count": 36,
     "metadata": {},
     "output_type": "execute_result"
    }
   ],
   "source": [
    "s1={1,3.14,\"abhi\",3.14,\"abhi\"}\n",
    "s1"
   ]
  },
  {
   "cell_type": "code",
   "execution_count": 49,
   "id": "02459622",
   "metadata": {},
   "outputs": [
    {
     "name": "stdout",
     "output_type": "stream",
     "text": [
      "{False, 1, 2, 'hello', 'a', 'b'}\n",
      "{False, 1, 2, 10, 20, (5+7j), 30, 'b', 'a'}\n",
      "{False, 1, 2, 'a'}\n"
     ]
    }
   ],
   "source": [
    "#  Basic set operations\n",
    "\n",
    "# Update one dictionary's elemeents with another\n",
    "s1= {1,\"a\",True,2,\"b\",False}\n",
    "s1.add(\"hello\")\n",
    "print(s1)\n",
    "\n",
    "# Updaating multiple elements\n",
    "s1= {1,\"a\",True,2,\"b\",False}\n",
    "s1.update([10,20,30,5+7j])\n",
    "print(s1)\n",
    "\n",
    "#  Removing an element\n",
    "s1= {1,\"a\",True,2,\"b\",False}\n",
    "s1.remove(\"b\")\n",
    "print(s1)"
   ]
  },
  {
   "cell_type": "code",
   "execution_count": 52,
   "id": "cf467824",
   "metadata": {},
   "outputs": [
    {
     "name": "stdout",
     "output_type": "stream",
     "text": [
      "{1, 2, 3, 'a', 'c', 'b'}\n",
      "{4, 5, 6}\n"
     ]
    }
   ],
   "source": [
    "# Set function\n",
    "\n",
    "# Union of two sets\n",
    "s1={1,2,3}\n",
    "s2={\"a\",\"b\",\"c\"}\n",
    "print(s1.union(s2))\n",
    "\n",
    "# Intersection of two sets\n",
    "s1={1,2,3,4,5,6,}\n",
    "s2={4,5,6,7,8,9}\n",
    "print(s1.intersection(s2))"
   ]
  },
  {
   "cell_type": "code",
   "execution_count": null,
   "id": "34d42db8",
   "metadata": {},
   "outputs": [],
   "source": []
  }
 ],
 "metadata": {
  "kernelspec": {
   "display_name": "Python 3 (ipykernel)",
   "language": "python",
   "name": "python3"
  },
  "language_info": {
   "codemirror_mode": {
    "name": "ipython",
    "version": 3
   },
   "file_extension": ".py",
   "mimetype": "text/x-python",
   "name": "python",
   "nbconvert_exporter": "python",
   "pygments_lexer": "ipython3",
   "version": "3.9.12"
  }
 },
 "nbformat": 4,
 "nbformat_minor": 5
}
