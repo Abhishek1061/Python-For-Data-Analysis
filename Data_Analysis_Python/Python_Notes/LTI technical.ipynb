{
 "cells": [
  {
   "cell_type": "code",
   "execution_count": 1,
   "id": "ff2a1baa",
   "metadata": {},
   "outputs": [
    {
     "name": "stdout",
     "output_type": "stream",
     "text": [
      "10 It is odd number\n"
     ]
    }
   ],
   "source": [
    "def odd_even(x):\n",
    "    if x/2==0:\n",
    "        print(x, \" It is an even number\")\n",
    "    else:\n",
    "        print(x,'It is odd number')\n",
    "        \n",
    "        \n",
    "odd_even(10)"
   ]
  },
  {
   "cell_type": "markdown",
   "id": "fbff56da",
   "metadata": {},
   "source": [
    "num = int(input(\"Enter the number:\"))\n",
    "if num>1:\n",
    "    for i in range (2,num):\n",
    "                if (num % i)==0:\n",
    "                    print(num,\"The number is not prime\")\n",
    "                    break\n",
    "    else:\n",
    "        print(num,\"it is prime\")\n",
    "else:\n",
    "    print(num, \"is not a prime number\")"
   ]
  },
  {
   "cell_type": "code",
   "execution_count": 2,
   "id": "1d61ef87",
   "metadata": {},
   "outputs": [
    {
     "ename": "SyntaxError",
     "evalue": "EOL while scanning string literal (4221004418.py, line 5)",
     "output_type": "error",
     "traceback": [
      "\u001b[1;36m  Input \u001b[1;32mIn [2]\u001b[1;36m\u001b[0m\n\u001b[1;33m    print(f\"thee fac is {factoria})\u001b[0m\n\u001b[1;37m                                   ^\u001b[0m\n\u001b[1;31mSyntaxError\u001b[0m\u001b[1;31m:\u001b[0m EOL while scanning string literal\n"
     ]
    }
   ],
   "source": [
    "num = int(input(\"Enter the number\"))\n",
    "factorial=1\n",
    "for i in range(1,num+1):\n",
    "    factorial = fctorial *1\n",
    "print(f\"thee fac is {factoria})\n"
   ]
  },
  {
   "cell_type": "code",
   "execution_count": 3,
   "id": "60cb532e",
   "metadata": {},
   "outputs": [
    {
     "name": "stdout",
     "output_type": "stream",
     "text": [
      "Enter the number4\n",
      "The factorail of this number is 24\n"
     ]
    }
   ],
   "source": [
    "num = int(input(\"Enter the number\"))\n",
    "factorial = 1\n",
    "for i in range (1,num+1):\n",
    "    factorial = factorial * i\n",
    "    \n",
    "print(f\"The factorail of this number is {factorial}\")"
   ]
  },
  {
   "cell_type": "code",
   "execution_count": null,
   "id": "8723a8cd",
   "metadata": {},
   "outputs": [],
   "source": [
    "num = int(input(\"Enter the number: \"))\n",
    "factorial = 1\n",
    "for i  in range(1,num+1):\n",
    "    factorial = factorial * i\n",
    "\n",
    "print(f\"The factorial of this number is {factorial} \")\n",
    "\n"
   ]
  },
  {
   "cell_type": "code",
   "execution_count": null,
   "id": "b69fb972",
   "metadata": {},
   "outputs": [],
   "source": [
    "def recur_function(n):\n",
    "    if n ==1:\n",
    "        return n\n",
    "    else:\n",
    "        return n*recur_factorial(n-1)\n",
    "    \n",
    "num = 7\n",
    "if num < 0:\n",
    "   print(\"Sorry, factorial does not exist for negative numbers\")\n",
    "elif num == 0:\n",
    "   print(\"The factorial of 0 is 1\")\n",
    "else:\n",
    "   print(\"The factorial of\", num, \"is\", recur_factorial(num))"
   ]
  },
  {
   "cell_type": "code",
   "execution_count": null,
   "id": "11361d73",
   "metadata": {},
   "outputs": [],
   "source": []
  },
  {
   "cell_type": "code",
   "execution_count": null,
   "id": "e82075b5",
   "metadata": {},
   "outputs": [],
   "source": []
  },
  {
   "cell_type": "code",
   "execution_count": null,
   "id": "63bffd59",
   "metadata": {},
   "outputs": [],
   "source": []
  },
  {
   "cell_type": "code",
   "execution_count": null,
   "id": "335abc0e",
   "metadata": {},
   "outputs": [],
   "source": []
  }
 ],
 "metadata": {
  "kernelspec": {
   "display_name": "Python 3 (ipykernel)",
   "language": "python",
   "name": "python3"
  },
  "language_info": {
   "codemirror_mode": {
    "name": "ipython",
    "version": 3
   },
   "file_extension": ".py",
   "mimetype": "text/x-python",
   "name": "python",
   "nbconvert_exporter": "python",
   "pygments_lexer": "ipython3",
   "version": "3.9.12"
  }
 },
 "nbformat": 4,
 "nbformat_minor": 5
}
