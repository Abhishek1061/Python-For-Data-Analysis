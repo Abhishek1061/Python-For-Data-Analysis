{
 "cells": [
  {
   "cell_type": "code",
   "execution_count": 1,
   "id": "00f45ff9",
   "metadata": {},
   "outputs": [],
   "source": [
    "## Python Object Oriented programming\n",
    "#     :- You are surrounded  with objects!! "
   ]
  },
  {
   "cell_type": "code",
   "execution_count": 2,
   "id": "adc71c69",
   "metadata": {},
   "outputs": [],
   "source": [
    "## Classes\n",
    "#     :- Class is a template/blue-print for real-world entities\n",
    "#     :- Class is a user-defined data-type\n",
    "\n",
    "# Attributes and methods\n",
    "# Example- mobile\n",
    "#    1.Atrributes- colour and cost of mobile\n",
    "#    2. Methods - Play game and make call in mobile\n"
   ]
  },
  {
   "cell_type": "code",
   "execution_count": 4,
   "id": "5affb0e0",
   "metadata": {},
   "outputs": [],
   "source": [
    "##  Objects \n",
    "#     :- Objects are specific instances of a class\n",
    "# Example- Mobile \n",
    "#                :- Apple is specific instance of phone\n",
    "#                :- Motorola is specific instance of phone\n",
    "#                :- Samsung is specific instance of phone\n",
    "#     a=10, b=20 , c=30 these are specific instances of integer data type\n"
   ]
  },
  {
   "cell_type": "code",
   "execution_count": 4,
   "id": "2f9f2b46",
   "metadata": {},
   "outputs": [
    {
     "name": "stdout",
     "output_type": "stream",
     "text": [
      " I am Making phone call\n"
     ]
    }
   ],
   "source": [
    " # Creating the first Class\n",
    "    \n",
    "# Creating the 'Phone' class\n",
    "class Phone:\n",
    "    def make_call(self):\n",
    "        print(\" I am Making phone call\")\n",
    "    def play_game(self):\n",
    "        print(\"I am Playing Game\")\n",
    "        \n",
    "# Instantiating the 'p1' object  \n",
    "\n",
    "p1= Phone()\n",
    "\n",
    "# Invoking methids through object\n",
    "p1.make_call()"
   ]
  },
  {
   "cell_type": "code",
   "execution_count": 5,
   "id": "d34ce1df",
   "metadata": {},
   "outputs": [
    {
     "name": "stdout",
     "output_type": "stream",
     "text": [
      "I am Playing Game\n"
     ]
    }
   ],
   "source": [
    "p1.play_game()"
   ]
  },
  {
   "cell_type": "code",
   "execution_count": 8,
   "id": "bc8bbd2d",
   "metadata": {},
   "outputs": [
    {
     "name": "stdout",
     "output_type": "stream",
     "text": [
      "blue\n",
      "5000\n"
     ]
    }
   ],
   "source": [
    "#  Adding parameters to the clas\n",
    "\n",
    "class Phone:\n",
    "    def set_color(self,color):\n",
    "        self.color=color\n",
    "    def set_cost(self,cost):\n",
    "        self.cost=cost\n",
    "    def show_color(self):\n",
    "        return self.color\n",
    "    def show_cost(self):\n",
    "        return self.cost\n",
    "    def make_call(self):\n",
    "        print(\"Make a call\")\n",
    "    def play_game(self):\n",
    "        print(\"Play a game\")\n",
    "p2=Phone()\n",
    "p2.set_color(\"blue\")\n",
    "p2.set_cost(5000)\n",
    "print(p2.show_color())\n",
    "print(p2.show_cost())"
   ]
  },
  {
   "cell_type": "code",
   "execution_count": 10,
   "id": "7b168aaf",
   "metadata": {},
   "outputs": [
    {
     "name": "stdout",
     "output_type": "stream",
     "text": [
      "Make a call\n"
     ]
    }
   ],
   "source": [
    "p2.make_call()"
   ]
  },
  {
   "cell_type": "code",
   "execution_count": 11,
   "id": "4401919e",
   "metadata": {},
   "outputs": [
    {
     "name": "stdout",
     "output_type": "stream",
     "text": [
      "Play a game\n"
     ]
    }
   ],
   "source": [
    "p2.play_game()"
   ]
  },
  {
   "cell_type": "code",
   "execution_count": 17,
   "id": "9041e021",
   "metadata": {},
   "outputs": [
    {
     "name": "stdout",
     "output_type": "stream",
     "text": [
      "Name of employee is  Abhi\n",
      "Age of employee is  32\n",
      "Salary of employee is  85000\n",
      "Gender of employee is  Male\n"
     ]
    }
   ],
   "source": [
    "# Creting a class with constructor\n",
    "# in python contructor are define by __init__\n",
    "\n",
    "class Employee:\n",
    "    def __init__(self,name,age,salary,gender):\n",
    "        self.name = name\n",
    "        self.age = age\n",
    "        self.salary = salary\n",
    "        self.gender = gender\n",
    "        \n",
    "    def employee_details(self):\n",
    "        print(\"Name of employee is \" ,self.name)\n",
    "        print(\"Age of employee is \" ,self.age)\n",
    "        print(\"Salary of employee is \" ,self.salary)\n",
    "        print(\"Gender of employee is \" ,self.gender)\n",
    "        \n",
    "# Instantiating the 'e1' object\n",
    "e1 = Employee('Abhi',32,85000,'Male')\n",
    "# Invoking the 'employee_details' method.\n",
    "e1.employee_details()"
   ]
  },
  {
   "cell_type": "code",
   "execution_count": null,
   "id": "fd574a7a",
   "metadata": {},
   "outputs": [],
   "source": [
    "## Inheritance in python\n",
    "#   :-With inheritance one class can derive the properties of another class\n",
    "#  Exp:- 1. Man inheriting features fro his father\n",
    "#        2. Property inheritance from father to son "
   ]
  },
  {
   "cell_type": "code",
   "execution_count": 20,
   "id": "0ec12b4a",
   "metadata": {},
   "outputs": [
    {
     "name": "stdout",
     "output_type": "stream",
     "text": [
      "I am a vehicle\n",
      "Mileage of vehicle is 500\n",
      "Cost of vehicle is 200000\n"
     ]
    }
   ],
   "source": [
    "# Inheritance Example\n",
    "\n",
    "#  Creating the base class\n",
    "class Vehicle:\n",
    "    def __init__(self,mileage,cost):\n",
    "        self.mileage = mileage\n",
    "        self.cost = cost\n",
    "    def show_details(self):\n",
    "        print(\"I am a vehicle\")\n",
    "        print(\"Mileage of vehicle is\", self.mileage)\n",
    "        print(\"Cost of vehicle is\", self.cost)\n",
    "\n",
    "#  Instantiating the object for base class\n",
    "v1= Vehicle(500,200000)\n",
    "v1.show_details()\n"
   ]
  },
  {
   "cell_type": "code",
   "execution_count": 23,
   "id": "bd66e833",
   "metadata": {},
   "outputs": [
    {
     "name": "stdout",
     "output_type": "stream",
     "text": [
      "I am a vehicle\n",
      "Mileage of vehicle is 200\n",
      "Cost of vehicle is 1200\n",
      "I am a car\n"
     ]
    }
   ],
   "source": [
    "# creating the child class\n",
    "class Car(Vehicle):\n",
    "    def show_car(self):\n",
    "        print(\"I am a car\")\n",
    "\n",
    "# Instantiating the object for child class\n",
    "c1 = Car(200,1200)\n",
    "c1.show_details()\n",
    "\n",
    "# Invoking the child class method\n",
    "c1.show_car()"
   ]
  },
  {
   "cell_type": "code",
   "execution_count": 24,
   "id": "e3bb9103",
   "metadata": {},
   "outputs": [
    {
     "name": "stdout",
     "output_type": "stream",
     "text": [
      "I am a car\n"
     ]
    }
   ],
   "source": [
    "# Invoking the child class method\n",
    "c1.show_car()"
   ]
  },
  {
   "cell_type": "code",
   "execution_count": 30,
   "id": "2f835ebb",
   "metadata": {},
   "outputs": [
    {
     "name": "stdout",
     "output_type": "stream",
     "text": [
      "I am a vehicle\n",
      "Mileage of vehicle is 20\n",
      "Cost of vehicle is 12000\n"
     ]
    }
   ],
   "source": [
    "#  Over-riding init method\n",
    "class Car(Vehicle):\n",
    "    def __init__(self,mileage,cost,tyres,hp):\n",
    "        super().__init__(mileage,cost)\n",
    "        self.tyres = tyres\n",
    "        self.hp = hp\n",
    "    def show_car_details(self):\n",
    "        print(\"I am a car\")\n",
    "        print(\"Number of tyres is\", self.tyres)\n",
    "        print(\"Value of Horse power is\", self.hp)\n",
    "\n",
    "# Invoking show_details()  - method from parent class\n",
    "c1 =Car(20,12000,4,300)\n",
    "c1.show_details()"
   ]
  },
  {
   "cell_type": "code",
   "execution_count": 31,
   "id": "0e0bf4d8",
   "metadata": {},
   "outputs": [
    {
     "name": "stdout",
     "output_type": "stream",
     "text": [
      "I am a car\n",
      "Number of tyres is 4\n",
      "Value of Horse power is 300\n"
     ]
    }
   ],
   "source": [
    "# Invoking show_car_details() -method from child class\n",
    "c1.show_car_details()"
   ]
  },
  {
   "cell_type": "code",
   "execution_count": 32,
   "id": "f8d89ba2",
   "metadata": {},
   "outputs": [],
   "source": [
    "## Types of Inheritance\n",
    "\n",
    "# 1.Single Inheritance  \n",
    "# 2.Multipl Inheritance\n",
    "# 3.Multi-level Inheritance\n",
    "# 4.Hybrid Inheritance"
   ]
  },
  {
   "cell_type": "code",
   "execution_count": 33,
   "id": "bb186409",
   "metadata": {},
   "outputs": [],
   "source": [
    "#  Multiple Inheritance \n",
    "# :- In multiple inheritance, child inherits from more than 1 parents class\n",
    "\n",
    "# parent 1 and parent 2\n",
    "#     |____    _____|\n",
    "#         child"
   ]
  },
  {
   "cell_type": "code",
   "execution_count": 48,
   "id": "230e4ce0",
   "metadata": {},
   "outputs": [],
   "source": [
    "# Example Of Multiple Inheritance\n",
    "\n",
    "# Parent Class 1\n",
    "class Parent1():\n",
    "    def assign_string_one(self,str1):\n",
    "        self.str1 = str1\n",
    "    def show_string_one(self):\n",
    "        return self.str1\n",
    "\n",
    "# Parent Class 2\n",
    "class Parent2():\n",
    "    def assign_string_two(self,str2):\n",
    "        self.str2 = str2\n",
    "    def show_string_two(self):\n",
    "        return self.str2\n",
    "    \n",
    "# Child Class\n",
    "class Child(Parent1, Parent2):\n",
    "    def assign_string_three(self,str3):\n",
    "        self.str3 = str3\n",
    "    def show_string_three(self):\n",
    "        return self.str3\n",
    "    \n",
    "# Instantiating object of child class\n",
    "my_child = Child()\n",
    "my_child.assign_string_one(\"I am string of parent 1\")\n",
    "my_child.assign_string_two(\"I am string of parent 2\")\n",
    "my_child.assign_string_three(\"I am string of child\")"
   ]
  },
  {
   "cell_type": "code",
   "execution_count": 51,
   "id": "6ba58136",
   "metadata": {},
   "outputs": [
    {
     "name": "stdout",
     "output_type": "stream",
     "text": [
      "I am string of parent 1\n",
      "I am string of parent 2\n",
      "I am string of child\n"
     ]
    }
   ],
   "source": [
    "# Invoking Methods\n",
    "print(my_child.show_string_one())\n",
    "print(my_child.show_string_two())\n",
    "print(my_child.show_string_three())"
   ]
  },
  {
   "cell_type": "code",
   "execution_count": 52,
   "id": "a07db6dc",
   "metadata": {},
   "outputs": [],
   "source": [
    "## Multi- level Inheritance\n",
    "# :- In multi-level inheritance,we have Parent, child,grandchild relationship\n",
    "# Parent\n",
    "#  |\n",
    "# Child\n",
    "#  |\n",
    "# Grand-Child"
   ]
  },
  {
   "cell_type": "code",
   "execution_count": 58,
   "id": "4cdbf302",
   "metadata": {},
   "outputs": [],
   "source": [
    "# Example Of Multi-level Inheritance\n",
    "\n",
    "# Parent Class\n",
    "class Parent():\n",
    "    def get_name(self,name):\n",
    "        self.name = name\n",
    "    def show_name(self):\n",
    "        return self.name\n",
    "\n",
    "#  Child Class\n",
    "class Child(Parent):\n",
    "    def get_age(self,age):\n",
    "        self.age = age\n",
    "    def show_age(self):\n",
    "        return self.age\n",
    "    \n",
    "# Grand-Child Class\n",
    "class GrandChild(Child):\n",
    "    def get_gender(self,gender):\n",
    "        self.gender = gender\n",
    "    def show_gender(self):\n",
    "        return self.gender"
   ]
  },
  {
   "cell_type": "code",
   "execution_count": 59,
   "id": "16e3ab1e",
   "metadata": {},
   "outputs": [],
   "source": [
    "gc = GrandChild()"
   ]
  },
  {
   "cell_type": "code",
   "execution_count": 62,
   "id": "665d1331",
   "metadata": {},
   "outputs": [],
   "source": [
    "gc.get_name(\"Abhishek\")"
   ]
  },
  {
   "cell_type": "code",
   "execution_count": 63,
   "id": "54467f09",
   "metadata": {},
   "outputs": [],
   "source": [
    "gc.get_age(21)"
   ]
  },
  {
   "cell_type": "code",
   "execution_count": 64,
   "id": "1767eed7",
   "metadata": {},
   "outputs": [],
   "source": [
    "gc.get_gender('Male')"
   ]
  },
  {
   "cell_type": "code",
   "execution_count": 66,
   "id": "6c992333",
   "metadata": {},
   "outputs": [
    {
     "data": {
      "text/plain": [
       "'Abhishek'"
      ]
     },
     "execution_count": 66,
     "metadata": {},
     "output_type": "execute_result"
    }
   ],
   "source": [
    "gc.show_name()"
   ]
  },
  {
   "cell_type": "code",
   "execution_count": 67,
   "id": "d80554be",
   "metadata": {},
   "outputs": [
    {
     "data": {
      "text/plain": [
       "21"
      ]
     },
     "execution_count": 67,
     "metadata": {},
     "output_type": "execute_result"
    }
   ],
   "source": [
    "gc.show_age()"
   ]
  },
  {
   "cell_type": "code",
   "execution_count": 68,
   "id": "09e3aaa6",
   "metadata": {},
   "outputs": [
    {
     "data": {
      "text/plain": [
       "'Male'"
      ]
     },
     "execution_count": 68,
     "metadata": {},
     "output_type": "execute_result"
    }
   ],
   "source": [
    "gc.show_gender()"
   ]
  },
  {
   "cell_type": "code",
   "execution_count": null,
   "id": "fa30feff",
   "metadata": {},
   "outputs": [],
   "source": []
  }
 ],
 "metadata": {
  "kernelspec": {
   "display_name": "Python 3 (ipykernel)",
   "language": "python",
   "name": "python3"
  },
  "language_info": {
   "codemirror_mode": {
    "name": "ipython",
    "version": 3
   },
   "file_extension": ".py",
   "mimetype": "text/x-python",
   "name": "python",
   "nbconvert_exporter": "python",
   "pygments_lexer": "ipython3",
   "version": "3.9.12"
  }
 },
 "nbformat": 4,
 "nbformat_minor": 5
}
