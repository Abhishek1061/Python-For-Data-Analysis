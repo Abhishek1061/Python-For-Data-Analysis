{
 "cells": [
  {
   "cell_type": "code",
   "execution_count": 2,
   "id": "7a8827ef",
   "metadata": {},
   "outputs": [],
   "source": [
    "## If statement\n",
    "\n",
    "#  if...else Pseudo Code\n",
    "''''if(condition){\n",
    "    statements to be executed....\n",
    "}\n",
    "else{\n",
    "    statements to be executed....\n",
    "}'''"
   ]
  },
  {
   "cell_type": "code",
   "execution_count": 3,
   "id": "d27f88cf",
   "metadata": {},
   "outputs": [
    {
     "name": "stdout",
     "output_type": "stream",
     "text": [
      "B is  greater than A\n"
     ]
    }
   ],
   "source": [
    "a=10\n",
    "b=20\n",
    "\n",
    "if b>a:\n",
    "    print(\"B is  greater than A\")"
   ]
  },
  {
   "cell_type": "code",
   "execution_count": 4,
   "id": "51077cb8",
   "metadata": {},
   "outputs": [
    {
     "name": "stdout",
     "output_type": "stream",
     "text": [
      "B is greater than A\n"
     ]
    }
   ],
   "source": [
    "if b<a:\n",
    "    print(\"B is  less than A\")\n",
    "else:\n",
    "    print(\"B is greater than A\")"
   ]
  },
  {
   "cell_type": "code",
   "execution_count": 5,
   "id": "2546fbb6",
   "metadata": {},
   "outputs": [
    {
     "name": "stdout",
     "output_type": "stream",
     "text": [
      "C is the gretest\n"
     ]
    }
   ],
   "source": [
    "a=10\n",
    "b=20\n",
    "c=30\n",
    "\n",
    "if (a>b) & (a>c):\n",
    "    print(\"A is the greatest\")\n",
    "elif (b>a) & (b>c):\n",
    "    print(\"B is the gretest\")\n",
    "else:\n",
    "    print(\"C is the gretest\")"
   ]
  },
  {
   "cell_type": "code",
   "execution_count": 6,
   "id": "644300ce",
   "metadata": {},
   "outputs": [
    {
     "name": "stdout",
     "output_type": "stream",
     "text": [
      "Value z is not present in tup1\n"
     ]
    }
   ],
   "source": [
    "#  if with tuple \n",
    "\n",
    "tup1 = ('a','b','c')\n",
    "\n",
    "if 'z' in tup1:\n",
    "    print(\"Value a is present in tup1\")\n",
    "else:\n",
    "    print(\"Value z is not present in tup1\")\n"
   ]
  },
  {
   "cell_type": "code",
   "execution_count": 7,
   "id": "9b823c42",
   "metadata": {},
   "outputs": [
    {
     "name": "stdout",
     "output_type": "stream",
     "text": [
      "['a', 'z', 'c']\n"
     ]
    }
   ],
   "source": [
    "#  if with list\n",
    "\n",
    "l1 = ['a','b','c']\n",
    "\n",
    "if l1[1]=='b':\n",
    "    l1[1]='z'\n",
    "print(l1)"
   ]
  },
  {
   "cell_type": "code",
   "execution_count": 8,
   "id": "01ba436b",
   "metadata": {},
   "outputs": [
    {
     "data": {
      "text/plain": [
       "{'k1': 10, 'k2': 20, 'k3': 130}"
      ]
     },
     "execution_count": 8,
     "metadata": {},
     "output_type": "execute_result"
    }
   ],
   "source": [
    "#  if with dicctionary\n",
    "\n",
    "d1 = {'k1':10, 'k2':20,'k3':30}\n",
    "\n",
    "if d1['k3'] == 30:\n",
    "    d1['k3']=d1['k3']+100\n",
    "d1"
   ]
  },
  {
   "cell_type": "code",
   "execution_count": 9,
   "id": "a92a4a15",
   "metadata": {},
   "outputs": [],
   "source": [
    "# looping Statements\n",
    "#     :-Looping statements are used to repeat a task multiple times\n",
    "#example:-\n",
    "#     1.Keep filling this bucket with a mug of water while it is not full\n",
    "#     2.Keep repeating the song until you close the app!\n",
    "#     3. Get your salary credited at the end of the month"
   ]
  },
  {
   "cell_type": "code",
   "execution_count": 10,
   "id": "661deccc",
   "metadata": {},
   "outputs": [],
   "source": [
    "## Whlie Loop\n",
    "#  syntax:\n",
    "'''  \n",
    "while condition:\n",
    "        Execute Statements\n",
    "'''\n"
   ]
  },
  {
   "cell_type": "code",
   "execution_count": 11,
   "id": "7c9d3909",
   "metadata": {},
   "outputs": [
    {
     "name": "stdout",
     "output_type": "stream",
     "text": [
      "1\n",
      "2\n",
      "3\n",
      "4\n",
      "5\n",
      "6\n",
      "7\n",
      "8\n",
      "9\n",
      "10\n"
     ]
    }
   ],
   "source": [
    "i = 1\n",
    "while i<=10:\n",
    "    print(i)\n",
    "    i = i+1"
   ]
  },
  {
   "cell_type": "code",
   "execution_count": 12,
   "id": "c10bbd04",
   "metadata": {},
   "outputs": [
    {
     "name": "stdout",
     "output_type": "stream",
     "text": [
      "2  *  1  =  2\n",
      "2  *  2  =  4\n",
      "2  *  3  =  6\n",
      "2  *  4  =  8\n",
      "2  *  5  =  10\n",
      "2  *  6  =  12\n",
      "2  *  7  =  14\n",
      "2  *  8  =  16\n",
      "2  *  9  =  18\n",
      "2  *  10  =  20\n"
     ]
    }
   ],
   "source": [
    "i=1\n",
    "n=2\n",
    "while i<=10:\n",
    "    print(n,' * ',i,' = ', n*i)\n",
    "    i = i+1"
   ]
  },
  {
   "cell_type": "code",
   "execution_count": 13,
   "id": "6584148b",
   "metadata": {},
   "outputs": [
    {
     "data": {
      "text/plain": [
       "[101, 102, 103, 104, 105]"
      ]
     },
     "execution_count": 13,
     "metadata": {},
     "output_type": "execute_result"
    }
   ],
   "source": [
    "#  while with list\n",
    "l1=[1,2,3,4,5]\n",
    "i = 0\n",
    "while i<len(l1):\n",
    "    l1[i]=l1[i]+100\n",
    "    i=i+1\n",
    "l1"
   ]
  },
  {
   "cell_type": "code",
   "execution_count": 14,
   "id": "8c58f5f2",
   "metadata": {},
   "outputs": [],
   "source": [
    "## For Loop \n",
    "\n",
    "#     :- For loop is used to iterate over a sequence(tuple,list,dictionary..)\n",
    "#     :-This is the syntax of for loop\n",
    "#         for val in sequence:\n",
    "#                        Body of for"
   ]
  },
  {
   "cell_type": "code",
   "execution_count": 15,
   "id": "b2583164",
   "metadata": {},
   "outputs": [
    {
     "name": "stdout",
     "output_type": "stream",
     "text": [
      "mango\n",
      "apple\n",
      "grapes\n",
      "orange\n"
     ]
    }
   ],
   "source": [
    "l1 = ['mango','apple','grapes','orange']\n",
    "for i in l1:\n",
    "    print(i)"
   ]
  },
  {
   "cell_type": "code",
   "execution_count": 17,
   "id": "0b536ff3",
   "metadata": {},
   "outputs": [
    {
     "name": "stdout",
     "output_type": "stream",
     "text": [
      "orange chair\n",
      "orange book\n",
      "orange laptop\n",
      "black chair\n",
      "black book\n",
      "black laptop\n",
      "white chair\n",
      "white book\n",
      "white laptop\n"
     ]
    }
   ],
   "source": [
    "# Multiple for loop or nested for loop\n",
    "\n",
    "l1=['orange','black','white']\n",
    "l2=['chair','book','laptop']\n",
    "for i in l1:\n",
    "    for j in l2:\n",
    "        print(i,j)"
   ]
  },
  {
   "cell_type": "code",
   "execution_count": 18,
   "id": "3e41560f",
   "metadata": {},
   "outputs": [],
   "source": [
    "## Function in real life\n",
    "#      :- Function means doing mutiple task at a time\n",
    "#  example  1.While eatig you use your hand mouth at same time\n",
    "#           2.While running your hands moves, you breath and also legs moves"
   ]
  },
  {
   "cell_type": "code",
   "execution_count": 20,
   "id": "25482bcf",
   "metadata": {},
   "outputs": [],
   "source": [
    "## Python Function  \n",
    "#     :- Functtion is block of code which perform a specific task\n",
    "#  exp:-\n",
    "#       1.  While withdrawing money from Atm \n",
    "# '''For every person 1000 line of code is not run one by one to withdraw money\n",
    "#  simply by clicking deposite or withdraw button the transection is done \n",
    "# this is how function works'''"
   ]
  },
  {
   "cell_type": "code",
   "execution_count": 21,
   "id": "ffcce375",
   "metadata": {},
   "outputs": [],
   "source": [
    "def hello():\n",
    "    print(\"hello world\")"
   ]
  },
  {
   "cell_type": "code",
   "execution_count": 25,
   "id": "2cd16f26",
   "metadata": {},
   "outputs": [
    {
     "name": "stdout",
     "output_type": "stream",
     "text": [
      "hello world\n"
     ]
    }
   ],
   "source": [
    "hello()"
   ]
  },
  {
   "cell_type": "code",
   "execution_count": 27,
   "id": "f659d9d3",
   "metadata": {},
   "outputs": [
    {
     "data": {
      "text/plain": [
       "19"
      ]
     },
     "execution_count": 27,
     "metadata": {},
     "output_type": "execute_result"
    }
   ],
   "source": [
    "def add_10(x):\n",
    "    return x+10\n",
    "add_10(9)"
   ]
  },
  {
   "cell_type": "code",
   "execution_count": 28,
   "id": "a67e3332",
   "metadata": {},
   "outputs": [
    {
     "data": {
      "text/plain": [
       "15"
      ]
     },
     "execution_count": 28,
     "metadata": {},
     "output_type": "execute_result"
    }
   ],
   "source": [
    " add_10(5)"
   ]
  },
  {
   "cell_type": "code",
   "execution_count": 35,
   "id": "22d083df",
   "metadata": {},
   "outputs": [
    {
     "name": "stdout",
     "output_type": "stream",
     "text": [
      "5  is odd\n"
     ]
    }
   ],
   "source": [
    "def odd_even(x):\n",
    "    if x%2==0:\n",
    "        print(x, \"is even\")\n",
    "    else:\n",
    "        print(x, \" is odd\")\n",
    "\n",
    "odd_even(5)"
   ]
  },
  {
   "cell_type": "code",
   "execution_count": 36,
   "id": "82123ccf",
   "metadata": {},
   "outputs": [],
   "source": [
    "#  lamda function is also called anonymous function \n",
    "# because it has no name, in one you give function parameter to it."
   ]
  },
  {
   "cell_type": "code",
   "execution_count": 38,
   "id": "6b047a45",
   "metadata": {},
   "outputs": [
    {
     "data": {
      "text/plain": [
       "125"
      ]
     },
     "execution_count": 38,
     "metadata": {},
     "output_type": "execute_result"
    }
   ],
   "source": [
    "g=lambda x: x*x*x\n",
    "g(5)"
   ]
  },
  {
   "cell_type": "code",
   "execution_count": 43,
   "id": "f0060a35",
   "metadata": {},
   "outputs": [
    {
     "name": "stdout",
     "output_type": "stream",
     "text": [
      "[87, 5, 7, 1, 7]\n"
     ]
    }
   ],
   "source": [
    "# Lamda with filter\n",
    "\n",
    "l1 = [87,56,90,34,2,5,7,1,7,98]\n",
    "final_list=list(filter(lambda x: (x%2!=0),l1)) \n",
    "print(final_list) ## this will print all odd values in the list\n",
    "#  if you want even values then simply replace '!=' with '==' in code."
   ]
  },
  {
   "cell_type": "code",
   "execution_count": 45,
   "id": "400ff971",
   "metadata": {},
   "outputs": [
    {
     "name": "stdout",
     "output_type": "stream",
     "text": [
      "[2, 4, 6, 8, 10, 12, 14, 16]\n"
     ]
    }
   ],
   "source": [
    "# lambda with map\n",
    "\n",
    "l1=[1,2,3,4,5,6,7,8]\n",
    "\n",
    "list_final_new=list(map(lambda x: x*2,l1))\n",
    "print(list_final_new)"
   ]
  },
  {
   "cell_type": "code",
   "execution_count": 47,
   "id": "940d1c45",
   "metadata": {},
   "outputs": [
    {
     "name": "stdout",
     "output_type": "stream",
     "text": [
      "36\n"
     ]
    }
   ],
   "source": [
    "from functools import reduce\n",
    "sum=reduce(lambda x,y: x+y ,l1)\n",
    "print(sum)"
   ]
  },
  {
   "cell_type": "code",
   "execution_count": 48,
   "id": "e2673ef1",
   "metadata": {},
   "outputs": [],
   "source": []
  },
  {
   "cell_type": "code",
   "execution_count": null,
   "id": "0df17b2e",
   "metadata": {},
   "outputs": [],
   "source": []
  },
  {
   "cell_type": "code",
   "execution_count": null,
   "id": "6cc14894",
   "metadata": {},
   "outputs": [],
   "source": []
  }
 ],
 "metadata": {
  "kernelspec": {
   "display_name": "Python 3 (ipykernel)",
   "language": "python",
   "name": "python3"
  },
  "language_info": {
   "codemirror_mode": {
    "name": "ipython",
    "version": 3
   },
   "file_extension": ".py",
   "mimetype": "text/x-python",
   "name": "python",
   "nbconvert_exporter": "python",
   "pygments_lexer": "ipython3",
   "version": "3.9.12"
  }
 },
 "nbformat": 4,
 "nbformat_minor": 5
}
